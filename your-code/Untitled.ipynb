{
 "cells": [
  {
   "cell_type": "code",
   "execution_count": 1,
   "metadata": {},
   "outputs": [
    {
     "name": "stdout",
     "output_type": "stream",
     "text": [
      "Welcome to this calculator!\n",
      "It can add and subtract whole numbers from zero to five\n",
      "Please choose your first number (0 to 5): 0\n",
      "What do you want to do? + or -: +\n",
      "Please choose your second number (0 to 5): 0\n",
      "The result of 0 + 0 is 0\n",
      "Thanks for using this calculator, goodbye :)\n"
     ]
    }
   ],
   "source": [
    "print('Welcome to this calculator!')\n",
    "print('It can add and subtract whole numbers from zero to five')\n",
    "\n",
    "def get_input():\n",
    "    numbers = range(6)\n",
    "    signs = ['+','-']\n",
    "    a = int(input('Please choose your first number (0 to 5): '))\n",
    "    while a not in numbers:\n",
    "        a = int(input(\"Choose a number from 0 to 5.\"))\n",
    "    b = input('What do you want to do? + or -: ')   \n",
    "    while b not in signs:\n",
    "        b = input('Choose + or -: ')\n",
    "    c = int(input('Please choose your second number (0 to 5): '))\n",
    "    while c not in numbers:    \n",
    "        c = int(input(\"Choose a number from 0 to 5.\"))\n",
    "    return a, b, c\n",
    "\n",
    "def operation(first, sign, second):\n",
    "    return (first + second if sign =='+' else first- second)\n",
    "\n",
    "def result(answer):\n",
    "    return f'The result of {first} {sign} {second} is {answer}'\n",
    "\n",
    "\n",
    "first, sign, second = get_input()\n",
    "answer = operation(first, sign, second)\n",
    "print(result(answer))\n",
    "print(\"Thanks for using this calculator, goodbye :)\")"
   ]
  },
  {
   "cell_type": "code",
   "execution_count": 34,
   "metadata": {},
   "outputs": [
    {
     "name": "stdout",
     "output_type": "stream",
     "text": [
      "Enter minimum string length: 2\n",
      "Enter maximum string length: 9\n",
      "How many random strings to generate? 5\n",
      "['aub', 'ru3', '4mc51', 'xalt', 'uwr2zatz']\n"
     ]
    }
   ],
   "source": [
    "import string\n",
    "import random\n",
    "characters = list(string.ascii_lowercase) + list(range(10))\n",
    "\n",
    "def stringGenerator(l):\n",
    "    return \"\".join(str(random.choice(characters)) for i in range(l))\n",
    "\n",
    "def n_strings(n, a, b):\n",
    "    if a <= b:\n",
    "        r = [stringGenerator(random.choice(range(a,b))) if a < b else stringGenerator(a) for i in range(n) ]\n",
    "        return r\n",
    "    else:\n",
    "        print('Incorrect min and max string lengths. Try again.')\n",
    "\n",
    "a = input('Enter minimum string length: ')\n",
    "b = input('Enter maximum string length: ')\n",
    "n = input('How many random strings to generate? ')\n",
    "\n",
    "print(n_strings(int(n), int(a), int(b)))"
   ]
  },
  {
   "cell_type": "code",
   "execution_count": 5,
   "metadata": {},
   "outputs": [
    {
     "name": "stdout",
     "output_type": "stream",
     "text": [
      "What is the maximal length of the triangle side? Enter a number: 12\n",
      "The longest side possible is [5, 10, 10]\n"
     ]
    }
   ],
   "source": [
    "def my_function(X):\n",
    "    solutions = [x for x in range(5,X) for y in range(4,X) for z in range(3,X) if (x*x == y*y+z*z)]\n",
    "    return solutions\n",
    "\n",
    "X = input(\"What is the maximal length of the triangle side? Enter a number: \")\n",
    "\n",
    "print(\"The longest side possible is \" + str(my_function(int(X))))"
   ]
  },
  {
   "cell_type": "code",
   "execution_count": null,
   "metadata": {},
   "outputs": [],
   "source": [
    "def my_function(X):\n",
    "    solutions = []\n",
    "    for x in range(5, X):\n",
    "        for y in range(4, X):\n",
    "            for z in range(3, X):\n",
    "                if (x*x==y*y+z*z):\n",
    "                    solutions.append([x, y, z])\n",
    "    \n",
    "    return max(solutions)[0]\n",
    "\n",
    "X = input(\"What is the maximal length of the triangle side? Enter a number: \")\n",
    "\n",
    "print(\"The longest side possible is \" + str(my_function(int(X))))"
   ]
  },
  {
   "cell_type": "code",
   "execution_count": null,
   "metadata": {},
   "outputs": [],
   "source": []
  }
 ],
 "metadata": {
  "kernelspec": {
   "display_name": "Python 3",
   "language": "python",
   "name": "python3"
  },
  "language_info": {
   "codemirror_mode": {
    "name": "ipython",
    "version": 3
   },
   "file_extension": ".py",
   "mimetype": "text/x-python",
   "name": "python",
   "nbconvert_exporter": "python",
   "pygments_lexer": "ipython3",
   "version": "3.7.4"
  }
 },
 "nbformat": 4,
 "nbformat_minor": 2
}
